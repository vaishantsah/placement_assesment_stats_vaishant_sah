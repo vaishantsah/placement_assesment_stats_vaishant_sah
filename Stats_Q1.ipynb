{
 "cells": [
  {
   "cell_type": "markdown",
   "metadata": {},
   "source": [
    "# Q-1:\n",
    "A university wants to understand the relationship between the SAT scores of its\n",
    "applicants and their college GPA. They collect data on 500 students, including their SAT\n",
    "scores (out of 1600) and their college GPA (on a 4.0 scale). They find that the correlation\n",
    "coefficient between SAT scores and college GPA is 0.7. What does this correlation\n",
    "coefficient indicate about the relationship between SAT scores and college GPA?\n"
   ]
  },
  {
   "cell_type": "markdown",
   "metadata": {},
   "source": [
    "A measure of how closely two variables are related to one another is the coefficient of correlation. It spans from -1 to 1, with 0 denoting the least corelation, 1 denoting the strongest positive corelation, and -1 denoting the strongest negative corelation. It is determined by dividing the covariance of the two values by the product of their standard deviations.\n",
    "\n",
    "The correlation coefficient in this instance, which is 0.7, shows a substantial positive link between the SAT score and GPA. Therefore, there is a strong likelihood that a high GPA will be correlated with a high SAT score and vice versa."
   ]
  }
 ],
 "metadata": {
  "kernelspec": {
   "display_name": "Python 3",
   "language": "python",
   "name": "python3"
  },
  "language_info": {
   "codemirror_mode": {
    "name": "ipython",
    "version": 3
   },
   "file_extension": ".py",
   "mimetype": "text/x-python",
   "name": "python",
   "nbconvert_exporter": "python",
   "pygments_lexer": "ipython3",
   "version": "3.8.5"
  }
 },
 "nbformat": 4,
 "nbformat_minor": 4
}
